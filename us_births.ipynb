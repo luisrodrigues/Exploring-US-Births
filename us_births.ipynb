{
 "cells": [
  {
   "cell_type": "markdown",
   "metadata": {},
   "source": [
    "<p style=\"font-size:12px\"><a href=\"https://www.linkedin.com/in/lu%C3%ADs-rodrigues-b13509140/\" style=\"text-decoration:none\">Luís Rodrigues</a> &copy; 2018</p>"
   ]
  },
  {
   "cell_type": "markdown",
   "metadata": {},
   "source": [
    "<h1>Exploring U.S. Births</h1>\n",
    "<p>Working with a dataset on births in the U.S. between 1994 and 2003, compiled by <a href=\"http://www.fivethirtyeight.com/\" style=\"text-decoration:none;\"><strong>FiveThirtyEight</strong></a><img src=\"https://media1.fdncms.com/inlander/imager/for-your-consideration/u/original/2316307/arts_culture4-2.jpg\" width=\"25px\" style=\"display:inline;margin-bottom: 20px;\"/><br>The objective of this exercise is to practice Python while doing some basic exploratory analysis.</p>\n",
    "<img src=\"https://motherandbaby.blob.core.windows.net/web/1/root/shutterstock-181925051_w555.jpg\" width=\"300px\" />"
   ]
  },
  {
   "cell_type": "markdown",
   "metadata": {},
   "source": [
    "<h1>Index</h1> \n",
    "\n",
    "- Intro;\n",
    "- Structuring the Data;\n",
    "- Soft Exploratory Analysis/Tooling\n",
    "- The Extra Mile.\n"
   ]
  },
  {
   "cell_type": "markdown",
   "metadata": {
    "collapsed": true
   },
   "source": [
    "<h1>Intro</h1>\n",
    "<p>As you will notice, the unortodox format used in this exercise only has to do with the main objetive: praticing Python. Some simple matplotlib linear charts will be included too.<br>We will start by first peeking into the data.</p>"
   ]
  },
  {
   "cell_type": "code",
   "execution_count": 2,
   "metadata": {
    "scrolled": false
   },
   "outputs": [
    {
     "data": {
      "text/plain": [
       "['year,month,date_of_month,day_of_week,births',\n",
       " '1994,1,1,6,8096',\n",
       " '1994,1,2,7,7772',\n",
       " '1994,1,3,1,10142',\n",
       " '1994,1,4,2,11248',\n",
       " '1994,1,5,3,11053',\n",
       " '1994,1,6,4,11406',\n",
       " '1994,1,7,5,11251',\n",
       " '1994,1,8,6,8653',\n",
       " '1994,1,9,7,7910']"
      ]
     },
     "execution_count": 2,
     "metadata": {},
     "output_type": "execute_result"
    }
   ],
   "source": [
    "file = open(\"US_births_1994-2003_CDC_NCHS.csv\", 'r')\n",
    "data = file.read()\n",
    "data_list = data.split('\\n')\n",
    "data_list[0:10]"
   ]
  },
  {
   "cell_type": "markdown",
   "metadata": {},
   "source": [
    "<h1>Structuring the Data</h1>\n",
    "<p>Turning the data in the csv file into a list of lists.</p>"
   ]
  },
  {
   "cell_type": "code",
   "execution_count": 3,
   "metadata": {},
   "outputs": [
    {
     "data": {
      "text/plain": [
       "[[1994, 1, 1, 6, 8096],\n",
       " [1994, 1, 2, 7, 7772],\n",
       " [1994, 1, 3, 1, 10142],\n",
       " [1994, 1, 4, 2, 11248],\n",
       " [1994, 1, 5, 3, 11053],\n",
       " [1994, 1, 6, 4, 11406],\n",
       " [1994, 1, 7, 5, 11251],\n",
       " [1994, 1, 8, 6, 8653],\n",
       " [1994, 1, 9, 7, 7910],\n",
       " [1994, 1, 10, 1, 10498]]"
      ]
     },
     "execution_count": 3,
     "metadata": {},
     "output_type": "execute_result"
    }
   ],
   "source": [
    "def read_csv(file_name):\n",
    "    file_data = open(file_name, 'r').read().split(\"\\n\")\n",
    "    string_list = file_data[1:]\n",
    "    final_list = []\n",
    "    for row in string_list:\n",
    "        int_fields = []\n",
    "        string_fields = row.split(\",\")\n",
    "        for value in string_fields:\n",
    "            int_fields.append(int(value))\n",
    "        final_list.append(int_fields)\n",
    "    return final_list\n",
    "\n",
    "cdc_list = read_csv(\"US_births_1994-2003_CDC_NCHS.csv\")\n",
    "cdc_list[0:10]"
   ]
  },
  {
   "cell_type": "markdown",
   "metadata": {},
   "source": [
    "<h1>Soft Exploratory Analysis/Tooling</h1>\n",
    "<p>While (very) softly exploring some of the data, we will be writing a few functions to help us ease and further our analysis.<br>\n",
    "We are going to start by calculating the total number of births that occured in each month, across all the years in the dataset.</p>"
   ]
  },
  {
   "cell_type": "code",
   "execution_count": 4,
   "metadata": {},
   "outputs": [
    {
     "data": {
      "text/plain": [
       "{1: 3232517,\n",
       " 2: 3018140,\n",
       " 3: 3322069,\n",
       " 4: 3185314,\n",
       " 5: 3350907,\n",
       " 6: 3296530,\n",
       " 7: 3498783,\n",
       " 8: 3525858,\n",
       " 9: 3439698,\n",
       " 10: 3378814,\n",
       " 11: 3171647,\n",
       " 12: 3301860}"
      ]
     },
     "execution_count": 4,
     "metadata": {},
     "output_type": "execute_result"
    }
   ],
   "source": [
    "def month_births(data):\n",
    "    #our data argument is a list of lists format\n",
    "    births_per_month = {}\n",
    "    for item in data:\n",
    "        month = item[1]\n",
    "        births = item[4]\n",
    "        if month in births_per_month:\n",
    "            births_per_month[month] += births\n",
    "        else:\n",
    "            births_per_month[month] = births\n",
    "    return births_per_month\n",
    "\n",
    "cdc_month_births = month_births(cdc_list)\n",
    "cdc_month_births"
   ]
  },
  {
   "cell_type": "code",
   "execution_count": 5,
   "metadata": {},
   "outputs": [
    {
     "data": {
      "text/plain": [
       "<Figure size 640x480 with 1 Axes>"
      ]
     },
     "metadata": {},
     "output_type": "display_data"
    }
   ],
   "source": [
    "import matplotlib.pyplot as plt\n",
    "plt.plot(cdc_month_births.keys(), cdc_month_births.values())\n",
    "plt.ylabel('nr of births')\n",
    "plt.xlabel('month')\n",
    "plt.show()"
   ]
  },
  {
   "cell_type": "markdown",
   "metadata": {},
   "source": [
    "<p>As we can see, the month is a decisive factor in the total number of births, as it peaks during the Summer.<br>\n",
    "Next, we are going to calculate the total number of births that occured in each unique day of the week, across all the years in the dataset.</p>"
   ]
  },
  {
   "cell_type": "code",
   "execution_count": 6,
   "metadata": {},
   "outputs": [],
   "source": [
    "def dow_births(data):\n",
    "    #data is a list of lists, again...\n",
    "    births_per_dow = {}\n",
    "    for item in data:\n",
    "        dow = item[3]\n",
    "        births = item[4]\n",
    "        if dow in births_per_dow:\n",
    "            births_per_dow[dow] += births\n",
    "        else:\n",
    "            births_per_dow[dow] = births\n",
    "    return births_per_dow\n",
    "\n",
    "cdc_dow_births = dow_births(cdc_list)\n",
    "\n",
    "sorted_dow_births = []\n",
    "for i in sorted(cdc_dow_births):\n",
    "    sorted_dow_births.append(cdc_dow_births[i])"
   ]
  },
  {
   "cell_type": "code",
   "execution_count": 7,
   "metadata": {},
   "outputs": [
    {
     "data": {
      "image/png": "[encoded data removed]",
      "text/plain": [
       "<Figure size 432x288 with 1 Axes>"
      ]
     },
     "metadata": {},
     "output_type": "display_data"
    }
   ],
   "source": [
    "plt.plot(sorted(cdc_dow_births), sorted_dow_births)\n",
    "plt.ylabel('nr of births')\n",
    "plt.xlabel('day of the week')\n",
    "plt.show()"
   ]
  },
  {
   "cell_type": "markdown",
   "metadata": {},
   "source": [
    "<p style=\"line-height: 40px;\">Most births occured on weekdays.<br>\n",
    "In case you haven't noticed, the two functions we previously used in our analysis are very similar.<br>\n",
    "We are going to write a general function to calculate the total births for any column in our list of lists.<br>\n",
    "In the end, it will return the data in a dictionary format.</p>"
   ]
  },
  {
   "cell_type": "code",
   "execution_count": 8,
   "metadata": {},
   "outputs": [],
   "source": [
    "def calc_counts(data, column):\n",
    "    dictionary = {}\n",
    "    for item in data:\n",
    "        column_value = item[column]\n",
    "        births = item[4]\n",
    "        if column_value in dictionary:\n",
    "            dictionary[column_value] += births\n",
    "        else:\n",
    "            dictionary[column_value] = births\n",
    "    return dictionary"
   ]
  },
  {
   "cell_type": "markdown",
   "metadata": {},
   "source": [
    "<p>Now that we have built the function, we will call it sequencially on the remaining columns, in the following order:</p>\n",
    "\n",
    "<ul>\n",
    "    <li>Total births occured in every year (1994-2003);</li>\n",
    "    <li>Total births occured in each day of the month (1, 2...31);</li>\n",
    "</ul>"
   ]
  },
  {
   "cell_type": "code",
   "execution_count": 9,
   "metadata": {},
   "outputs": [
    {
     "data": {
      "text/plain": [
       "{1994: 3952767,\n",
       " 1995: 3899589,\n",
       " 1996: 3891494,\n",
       " 1997: 3880894,\n",
       " 1998: 3941553,\n",
       " 1999: 3959417,\n",
       " 2000: 4058814,\n",
       " 2001: 4025933,\n",
       " 2002: 4021726,\n",
       " 2003: 4089950}"
      ]
     },
     "execution_count": 9,
     "metadata": {},
     "output_type": "execute_result"
    }
   ],
   "source": [
    "cdc_year_births = calc_counts(cdc_list, 0)\n",
    "cdc_year_births"
   ]
  },
  {
   "cell_type": "code",
   "execution_count": 10,
   "metadata": {},
   "outputs": [
    {
     "data": {
      "image/png": "[encoded data removed]",
      "text/plain": [
       "<Figure size 432x288 with 1 Axes>"
      ]
     },
     "metadata": {},
     "output_type": "display_data"
    }
   ],
   "source": [
    "plt.plot(cdc_year_births.keys(), cdc_year_births.values())\n",
    "plt.ylabel('nr of births')\n",
    "plt.xlabel('year')\n",
    "plt.show()"
   ]
  },
  {
   "cell_type": "markdown",
   "metadata": {},
   "source": [
    "<p>Overall, the number of total births has been increasing rapidly since 1997.<br>\n",
    "    \n",
    "A <em>quick search</em> on Wikipedia shows us that during this year, for the first time since 1973, the unemployment rate was below 5% in the US, along with an exponencial economical growth (Dow Jones had doubled it's value in just 2.5 years), which might have motivativated the shown increase.</p>"
   ]
  },
  {
   "cell_type": "code",
   "execution_count": 11,
   "metadata": {},
   "outputs": [
    {
     "data": {
      "text/plain": [
       "{1: 1276557,\n",
       " 2: 1288739,\n",
       " 3: 1304499,\n",
       " 4: 1288154,\n",
       " 5: 1299953,\n",
       " 6: 1304474,\n",
       " 7: 1310459,\n",
       " 8: 1312297,\n",
       " 9: 1303292,\n",
       " 10: 1320764,\n",
       " 11: 1314361,\n",
       " 12: 1318437,\n",
       " 13: 1277684,\n",
       " 14: 1320153,\n",
       " 15: 1319171,\n",
       " 16: 1315192,\n",
       " 17: 1324953,\n",
       " 18: 1326855,\n",
       " 19: 1318727,\n",
       " 20: 1324821,\n",
       " 21: 1322897,\n",
       " 22: 1317381,\n",
       " 23: 1293290,\n",
       " 24: 1288083,\n",
       " 25: 1272116,\n",
       " 26: 1284796,\n",
       " 27: 1294395,\n",
       " 28: 1307685,\n",
       " 29: 1223161,\n",
       " 30: 1202095,\n",
       " 31: 746696}"
      ]
     },
     "execution_count": 11,
     "metadata": {},
     "output_type": "execute_result"
    }
   ],
   "source": [
    "cdc_dom_births = calc_counts(cdc_list, 2)\n",
    "cdc_dom_births"
   ]
  },
  {
   "cell_type": "code",
   "execution_count": 12,
   "metadata": {},
   "outputs": [
    {
     "data": {
      "image/png": "[encoded data removed]",
      "text/plain": [
       "<Figure size 432x288 with 1 Axes>"
      ]
     },
     "metadata": {},
     "output_type": "display_data"
    }
   ],
   "source": [
    "plt.plot(cdc_dom_births.keys(), cdc_dom_births.values())\n",
    "plt.ylabel('nr of births')\n",
    "plt.xlabel('day of the month')\n",
    "plt.show()"
   ]
  },
  {
   "cell_type": "markdown",
   "metadata": {},
   "source": [
    "<p style=\"line-height:25px\">Across the years, the total number of births doesn't seem to be affected by the date of the month. </p>\n",
    "<p>8 out of 12 months have 31 days, which might explain the decrease shown at this paticular time of the month.</p>"
   ]
  },
  {
   "cell_type": "markdown",
   "metadata": {},
   "source": [
    "<h1>The Extra Mile</h1>\n",
    "    <p>This part includes two generic functions which make it easier to explore the data.\n",
    "    <br>The function below will return the birth values across years that share the same information parameter.<br>\n",
    "For example, it would be interesting to see how births on a Saturday have changed between a certain time period, in years.</p>"
   ]
  },
  {
   "cell_type": "code",
   "execution_count": 17,
   "metadata": {},
   "outputs": [
    {
     "name": "stdout",
     "output_type": "stream",
     "text": [
      "5 {1999: 449985, 2000: 469794, 2001: 453928, 2002: 445770, 2003: 447445}\n"
     ]
    },
    {
     "data": {
      "image/png": "[encoded data removed]",
      "text/plain": [
       "<Figure size 432x288 with 1 Axes>"
      ]
     },
     "metadata": {},
     "output_type": "display_data"
    }
   ],
   "source": [
    "def filter_data(column, value, start_year=1994, end_year=2003):\n",
    "    data_to_compare = {}\n",
    "    for row in cdc_list:\n",
    "        time = row[0]\n",
    "        births_value = row[4]\n",
    "        search_value = row[column]\n",
    "        if check_date(start_year, end_year, time) and search_value == value:\n",
    "            if time in data_to_compare:\n",
    "                data_to_compare[time] += births_value\n",
    "            else:\n",
    "                data_to_compare[time] = births_value\n",
    "    return data_to_compare\n",
    "\n",
    "#auxiliary functions\n",
    "def check_date(start_date, end_date, date):\n",
    "    if date >= start_date and date <= end_date:\n",
    "        return True\n",
    "    else:\n",
    "        return False\n",
    "\n",
    "#example\n",
    "example_filtering = filter_data(3, 6, 1999, 2003)\n",
    "print(len(example_filtering), example_filtering)\n",
    "\n",
    "plt.plot(example_filtering.keys(), example_filtering.values())\n",
    "plt.ylabel('nr of births')\n",
    "plt.xlabel('year')\n",
    "plt.title('nr of births on a Saturday')\n",
    "plt.show()"
   ]
  },
  {
   "cell_type": "markdown",
   "metadata": {},
   "source": [
    "<p>The last one will calculate the minimum, maximum, and average birth values in a dictionary.</p>"
   ]
  },
  {
   "cell_type": "code",
   "execution_count": 14,
   "metadata": {},
   "outputs": [
    {
     "data": {
      "text/plain": [
       "{'min': 4079723, 'max': 6446196, 'avg': 5674591}"
      ]
     },
     "execution_count": 14,
     "metadata": {},
     "output_type": "execute_result"
    }
   ],
   "source": [
    "def stats(dict_data):\n",
    "    values = []\n",
    "    min_max_dict = {}\n",
    "    for key in dict_data.keys():\n",
    "        values.append(dict_data[key])\n",
    "    values.sort()\n",
    "    \n",
    "    min_max_dict[\"min\"] = values[0]\n",
    "    min_max_dict[\"max\"] = values[len(values) - 1]\n",
    "    \n",
    "    v_sum = 0\n",
    "    for value in values:\n",
    "        v_sum += value\n",
    "    min_max_dict[\"avg\"] = round(v_sum / len(values))    \n",
    "        \n",
    "    return min_max_dict\n",
    "\n",
    "#example\n",
    "stats_dow_births = stats(cdc_dow_births)\n",
    "stats_dow_births"
   ]
  }
 ],
 "metadata": {
  "anaconda-cloud": {},
  "kernelspec": {
   "display_name": "Python 3",
   "language": "python",
   "name": "python3"
  },
  "language_info": {
   "codemirror_mode": {
    "name": "ipython",
    "version": 3
   },
   "file_extension": ".py",
   "mimetype": "text/x-python",
   "name": "python",
   "nbconvert_exporter": "python",
   "pygments_lexer": "ipython3",
   "version": "3.6.5"
  }
 },
 "nbformat": 4,
 "nbformat_minor": 1
}
